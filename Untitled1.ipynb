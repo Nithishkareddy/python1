{
 "cells": [
  {
   "cell_type": "code",
   "execution_count": null,
   "id": "b3f41942-2b5b-4441-81d3-61d3badb65ad",
   "metadata": {},
   "outputs": [],
   "source": []
  },
  {
   "cell_type": "code",
   "execution_count": 5,
   "id": "edf94784-b188-4e15-ac9e-211416e6afc7",
   "metadata": {},
   "outputs": [
    {
     "name": "stdout",
     "output_type": "stream",
     "text": [
      "Index(['house_size', 'bedrooms', 'location', 'house_price'], dtype='object')\n"
     ]
    }
   ],
   "source": [
    "# Load the dataset\n",
    "data = pd.read_csv('house_data.csv')\n",
    "\n",
    "# Display the column names to identify the correct column names in your dataset\n",
    "print(data.columns)\n",
    "\n",
    "# Verify the column names and adjust the feature and target variables in your code\n",
    "# Replace 'feature1', 'feature2', 'feature3', and 'target' with the actual column names\n",
    "X = data[['house_size', 'bedrooms', 'location']]  # Use the actual column names from your CSV file\n",
    "y = data['house_price']  # Use the actual target column name from your CSV file\n"
   ]
  },
  {
   "cell_type": "code",
   "execution_count": null,
   "id": "4ae70eb5-b140-4d58-865f-08dd43d39c6b",
   "metadata": {},
   "outputs": [],
   "source": []
  },
  {
   "cell_type": "code",
   "execution_count": null,
   "id": "844f8b20-2701-46fe-982a-068ebe3b4e07",
   "metadata": {},
   "outputs": [],
   "source": []
  },
  {
   "cell_type": "code",
   "execution_count": null,
   "id": "16df92c3-8b3d-4852-8d52-caed901f319f",
   "metadata": {},
   "outputs": [],
   "source": [
    "Machine Learning model to predict house\n",
    "price using linear regression"
   ]
  },
  {
   "cell_type": "code",
   "execution_count": 2,
   "id": "0dfa568d-7d80-4fb9-aec0-834f1a373f26",
   "metadata": {},
   "outputs": [
    {
     "name": "stdout",
     "output_type": "stream",
     "text": [
      "   house_size  bedrooms location  house_price\n",
      "0        2000         3   City A       300000\n",
      "1        1600         2   City B       250000\n",
      "2        2600         4   City A       400000\n",
      "3        1800         3   City C       325000\n",
      "4        3000         4   City B       500000\n",
      "   Actual Prices  Predicted Prices\n",
      "1         250000     257894.617383\n",
      "4         500000     488157.695638\n",
      "Mean Squared Error: 101282578.11406404\n",
      "R-squared: 0.9935179150006999\n"
     ]
    },
    {
     "data": {
      "image/png": "[encoded data removed]",
      "text/plain": [
       "<Figure size 640x480 with 1 Axes>"
      ]
     },
     "metadata": {},
     "output_type": "display_data"
    }
   ],
   "source": [
    "import pandas as pd\n",
    "from sklearn.model_selection import train_test_split\n",
    "from sklearn.linear_model import LinearRegression\n",
    "from sklearn.metrics import mean_squared_error, r2_score\n",
    "import matplotlib.pyplot as plt\n",
    "data = pd.read_csv('house_data.csv')\n",
    "print(data.head())\n",
    "X = data[['house_size', 'bedrooms']]  # Features: house size, bedrooms\n",
    "X = pd.concat([X, pd.get_dummies(data['location'])], axis=1)\n",
    "y = data['house_price']  # Target variable: house price\n",
    "X_train, X_test, y_train, y_test = train_test_split(X, y, test_size=0.3, random_state=42)\n",
    "model = LinearRegression()\n",
    "model.fit(X_train, y_train)\n",
    "predictions = model.predict(X_test)\n",
    "results = pd.DataFrame({'Actual Prices': y_test, 'Predicted Prices': predictions})\n",
    "print(results)\n",
    "if len(y_test) < 2:\n",
    "    print(\"Test set has too few samples for evaluation.\")\n",
    "else:\n",
    "    mse = mean_squared_error(y_test, predictions)\n",
    "    r2 = r2_score(y_test, predictions)\n",
    "    print('Mean Squared Error:', mse)\n",
    "    print('R-squared:', r2)\n",
    "    plt.scatter(y_test, predictions)\n",
    "    plt.xlabel('Actual Prices')\n",
    "    plt.ylabel('Predicted Prices')\n",
    "    plt.title('Actual Prices vs Predicted Prices')\n",
    "    plt.show()\n"
   ]
  },
  {
   "cell_type": "code",
   "execution_count": null,
   "id": "0c93d7b9-0dae-4b72-82cb-0a79b3f7c926",
   "metadata": {},
   "outputs": [],
   "source": []
  }
 ],
 "metadata": {
  "kernelspec": {
   "display_name": "Python 3 (ipykernel)",
   "language": "python",
   "name": "python3"
  },
  "language_info": {
   "codemirror_mode": {
    "name": "ipython",
    "version": 3
   },
   "file_extension": ".py",
   "mimetype": "text/x-python",
   "name": "python",
   "nbconvert_exporter": "python",
   "pygments_lexer": "ipython3",
   "version": "3.11.5"
  }
 },
 "nbformat": 4,
 "nbformat_minor": 5
}
